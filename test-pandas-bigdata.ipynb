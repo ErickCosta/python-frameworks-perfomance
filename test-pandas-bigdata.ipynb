{
 "cells": [
  {
   "cell_type": "markdown",
   "id": "c01a461e-68b9-49af-b5f5-a58a90b10a85",
   "metadata": {},
   "source": [
    "# Dependencies"
   ]
  },
  {
   "cell_type": "code",
   "execution_count": 3,
   "id": "4aef9266-cfc9-4907-9969-fdd9ccabc0fb",
   "metadata": {},
   "outputs": [],
   "source": [
    "import pandas as pd"
   ]
  },
  {
   "cell_type": "markdown",
   "id": "9eb7c7ae-c727-4583-b0cd-dcf5bfff28ca",
   "metadata": {},
   "source": [
    "# URL iris dataset"
   ]
  },
  {
   "cell_type": "code",
   "execution_count": 4,
   "id": "1bf7e7b4-2ca0-4165-bcf8-ab1be3814dc0",
   "metadata": {},
   "outputs": [],
   "source": [
    "url = 'big_iris.csv'"
   ]
  },
  {
   "cell_type": "markdown",
   "id": "2bf12a8a-eed7-4d89-beaf-60181d3bb60f",
   "metadata": {},
   "source": [
    "# Converting iris dataset to dataframe"
   ]
  },
  {
   "cell_type": "code",
   "execution_count": null,
   "id": "4d914688-d061-444c-98af-d65549dda405",
   "metadata": {
    "tags": []
   },
   "outputs": [],
   "source": [
    "df = pd.read_csv(url)\n",
    "len(df)"
   ]
  },
  {
   "cell_type": "markdown",
   "id": "3ff7d4ac-7f36-4924-819b-d68036efac35",
   "metadata": {},
   "source": [
    "# Generating two new features"
   ]
  },
  {
   "cell_type": "code",
   "execution_count": 12,
   "id": "0644fa60-961c-43e0-9f70-19c1e3dd4093",
   "metadata": {
    "tags": []
   },
   "outputs": [
    {
     "name": "stdout",
     "output_type": "stream",
     "text": [
      "CPU times: user 94.8 ms, sys: 275 ms, total: 370 ms\n",
      "Wall time: 2.43 s\n"
     ]
    },
    {
     "data": {
      "text/html": [
       "<div>\n",
       "<style scoped>\n",
       "    .dataframe tbody tr th:only-of-type {\n",
       "        vertical-align: middle;\n",
       "    }\n",
       "\n",
       "    .dataframe tbody tr th {\n",
       "        vertical-align: top;\n",
       "    }\n",
       "\n",
       "    .dataframe thead th {\n",
       "        text-align: right;\n",
       "    }\n",
       "</style>\n",
       "<table border=\"1\" class=\"dataframe\">\n",
       "  <thead>\n",
       "    <tr style=\"text-align: right;\">\n",
       "      <th></th>\n",
       "      <th>sepal.length</th>\n",
       "      <th>sepal.width</th>\n",
       "      <th>petal.length</th>\n",
       "      <th>petal.width</th>\n",
       "      <th>variety</th>\n",
       "      <th>sepal.area</th>\n",
       "      <th>petal.area</th>\n",
       "    </tr>\n",
       "  </thead>\n",
       "  <tbody>\n",
       "    <tr>\n",
       "      <th>0</th>\n",
       "      <td>5.1</td>\n",
       "      <td>3.5</td>\n",
       "      <td>1.4</td>\n",
       "      <td>0.2</td>\n",
       "      <td>Setosa</td>\n",
       "      <td>17.85</td>\n",
       "      <td>0.28</td>\n",
       "    </tr>\n",
       "    <tr>\n",
       "      <th>1</th>\n",
       "      <td>5.1</td>\n",
       "      <td>3.5</td>\n",
       "      <td>1.4</td>\n",
       "      <td>0.2</td>\n",
       "      <td>Setosa</td>\n",
       "      <td>17.85</td>\n",
       "      <td>0.28</td>\n",
       "    </tr>\n",
       "    <tr>\n",
       "      <th>2</th>\n",
       "      <td>5.1</td>\n",
       "      <td>3.5</td>\n",
       "      <td>1.4</td>\n",
       "      <td>0.2</td>\n",
       "      <td>Setosa</td>\n",
       "      <td>17.85</td>\n",
       "      <td>0.28</td>\n",
       "    </tr>\n",
       "    <tr>\n",
       "      <th>3</th>\n",
       "      <td>5.1</td>\n",
       "      <td>3.5</td>\n",
       "      <td>1.4</td>\n",
       "      <td>0.2</td>\n",
       "      <td>Setosa</td>\n",
       "      <td>17.85</td>\n",
       "      <td>0.28</td>\n",
       "    </tr>\n",
       "    <tr>\n",
       "      <th>4</th>\n",
       "      <td>5.1</td>\n",
       "      <td>3.5</td>\n",
       "      <td>1.4</td>\n",
       "      <td>0.2</td>\n",
       "      <td>Setosa</td>\n",
       "      <td>17.85</td>\n",
       "      <td>0.28</td>\n",
       "    </tr>\n",
       "  </tbody>\n",
       "</table>\n",
       "</div>"
      ],
      "text/plain": [
       "   sepal.length  sepal.width  petal.length  petal.width variety  sepal.area  \\\n",
       "0           5.1          3.5           1.4          0.2  Setosa       17.85   \n",
       "1           5.1          3.5           1.4          0.2  Setosa       17.85   \n",
       "2           5.1          3.5           1.4          0.2  Setosa       17.85   \n",
       "3           5.1          3.5           1.4          0.2  Setosa       17.85   \n",
       "4           5.1          3.5           1.4          0.2  Setosa       17.85   \n",
       "\n",
       "   petal.area  \n",
       "0        0.28  \n",
       "1        0.28  \n",
       "2        0.28  \n",
       "3        0.28  \n",
       "4        0.28  "
      ]
     },
     "execution_count": 12,
     "metadata": {},
     "output_type": "execute_result"
    }
   ],
   "source": [
    "%%time\n",
    "\n",
    "df['sepal.area'] = df['sepal.length'] * df['sepal.width']\n",
    "df['petal.area'] = df['petal.length'] * df['petal.width']\n",
    "df.head()"
   ]
  }
 ],
 "metadata": {
  "kernelspec": {
   "display_name": "Python 3 (ipykernel)",
   "language": "python",
   "name": "python3"
  },
  "language_info": {
   "codemirror_mode": {
    "name": "ipython",
    "version": 3
   },
   "file_extension": ".py",
   "mimetype": "text/x-python",
   "name": "python",
   "nbconvert_exporter": "python",
   "pygments_lexer": "ipython3",
   "version": "3.10.6"
  }
 },
 "nbformat": 4,
 "nbformat_minor": 5
}
