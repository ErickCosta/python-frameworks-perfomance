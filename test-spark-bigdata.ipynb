{
 "cells": [
  {
   "cell_type": "markdown",
   "id": "c01a461e-68b9-49af-b5f5-a58a90b10a85",
   "metadata": {},
   "source": [
    "# Dependencies"
   ]
  },
  {
   "cell_type": "code",
   "execution_count": 1,
   "id": "4aef9266-cfc9-4907-9969-fdd9ccabc0fb",
   "metadata": {},
   "outputs": [],
   "source": [
    "from pyspark.sql import SparkSession as ss"
   ]
  },
  {
   "cell_type": "markdown",
   "id": "9eb7c7ae-c727-4583-b0cd-dcf5bfff28ca",
   "metadata": {},
   "source": [
    "# URL iris dataset"
   ]
  },
  {
   "cell_type": "code",
   "execution_count": 2,
   "id": "1bf7e7b4-2ca0-4165-bcf8-ab1be3814dc0",
   "metadata": {},
   "outputs": [],
   "source": [
    "url = 'big_iris.csv'"
   ]
  },
  {
   "cell_type": "markdown",
   "id": "2bf12a8a-eed7-4d89-beaf-60181d3bb60f",
   "metadata": {},
   "source": [
    "# Converting iris dataset to dataframe"
   ]
  },
  {
   "cell_type": "code",
   "execution_count": 4,
   "id": "3c1938ec-3327-4df3-9f8a-c7b8e08a4b7b",
   "metadata": {
    "tags": []
   },
   "outputs": [],
   "source": [
    "spark = ss.builder.appName('test-spark').getOrCreate()"
   ]
  },
  {
   "cell_type": "code",
   "execution_count": 5,
   "id": "c7846b92-8281-4281-ab67-5028d6f05a98",
   "metadata": {
    "tags": []
   },
   "outputs": [
    {
     "name": "stderr",
     "output_type": "stream",
     "text": [
      "                                                                                \r"
     ]
    },
    {
     "data": {
      "text/plain": [
       "15000000"
      ]
     },
     "execution_count": 5,
     "metadata": {},
     "output_type": "execute_result"
    }
   ],
   "source": [
    "df = spark.read.csv(url, header=True)\n",
    "df.count()"
   ]
  },
  {
   "cell_type": "markdown",
   "id": "3ff7d4ac-7f36-4924-819b-d68036efac35",
   "metadata": {},
   "source": [
    "# Generating two new features"
   ]
  },
  {
   "cell_type": "code",
   "execution_count": 32,
   "id": "0644fa60-961c-43e0-9f70-19c1e3dd4093",
   "metadata": {
    "tags": []
   },
   "outputs": [
    {
     "name": "stdout",
     "output_type": "stream",
     "text": [
      "+------------+-----------+------------+-----------+-------+\n",
      "|sepal.length|sepal.width|petal.length|petal.width|variety|\n",
      "+------------+-----------+------------+-----------+-------+\n",
      "|         5.1|        3.5|         1.4|        0.2| Setosa|\n",
      "|         5.1|        3.5|         1.4|        0.2| Setosa|\n",
      "|         5.1|        3.5|         1.4|        0.2| Setosa|\n",
      "|         5.1|        3.5|         1.4|        0.2| Setosa|\n",
      "|         5.1|        3.5|         1.4|        0.2| Setosa|\n",
      "+------------+-----------+------------+-----------+-------+\n",
      "only showing top 5 rows\n",
      "\n",
      "CPU times: user 3.38 ms, sys: 0 ns, total: 3.38 ms\n",
      "Wall time: 60.9 ms\n"
     ]
    }
   ],
   "source": [
    "%%time\n",
    "\n",
    "df.withColumn(\"`sepal.area`\", df[\"`sepal.length`\"] * df[\"`sepal.width`\"])\n",
    "df.withColumn(\"`petal.area`\", df[\"`petal.length`\"] * df[\"`petal.width`\"])\n",
    "df.show(5)"
   ]
  },
  {
   "cell_type": "code",
   "execution_count": null,
   "id": "5585987c-4841-48fa-82a1-f5b3cf87f6c6",
   "metadata": {},
   "outputs": [],
   "source": []
  }
 ],
 "metadata": {
  "kernelspec": {
   "display_name": "Python 3 (ipykernel)",
   "language": "python",
   "name": "python3"
  },
  "language_info": {
   "codemirror_mode": {
    "name": "ipython",
    "version": 3
   },
   "file_extension": ".py",
   "mimetype": "text/x-python",
   "name": "python",
   "nbconvert_exporter": "python",
   "pygments_lexer": "ipython3",
   "version": "3.10.6"
  }
 },
 "nbformat": 4,
 "nbformat_minor": 5
}
